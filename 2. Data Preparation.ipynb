{
 "cells": [
  {
   "cell_type": "markdown",
   "id": "fc000807",
   "metadata": {},
   "source": [
    "### 2. Data Preparation"
   ]
  },
  {
   "cell_type": "code",
   "execution_count": 20,
   "id": "1d3df359",
   "metadata": {},
   "outputs": [],
   "source": [
    "import os\n",
    "import numpy as np\n",
    "import random\n",
    "import shutil\n",
    "import time\n",
    "import zipfile\n",
    "import PIL\n",
    "from PIL import Image"
   ]
  },
  {
   "cell_type": "markdown",
   "id": "7dad272f",
   "metadata": {},
   "source": [
    "### Data Augmentation"
   ]
  },
  {
   "cell_type": "code",
   "execution_count": 2,
   "id": "849dcde1",
   "metadata": {},
   "outputs": [
    {
     "name": "stdout",
     "output_type": "stream",
     "text": [
      "Requirement already satisfied: Augmentor in /home/innovation/anaconda3/lib/python3.8/site-packages (0.2.12)\r\n",
      "Requirement already satisfied: tqdm>=4.9.0 in /home/innovation/anaconda3/lib/python3.8/site-packages (from Augmentor) (4.59.0)\r\n",
      "Requirement already satisfied: numpy>=1.11.0 in /home/innovation/anaconda3/lib/python3.8/site-packages (from Augmentor) (1.23.5)\r\n",
      "Requirement already satisfied: Pillow>=5.2.0 in /home/innovation/anaconda3/lib/python3.8/site-packages (from Augmentor) (9.5.0)\r\n"
     ]
    }
   ],
   "source": [
    "!pip install Augmentor"
   ]
  },
  {
   "cell_type": "code",
   "execution_count": 11,
   "id": "14e864b3",
   "metadata": {},
   "outputs": [
    {
     "name": "stderr",
     "output_type": "stream",
     "text": [
      "Processing <PIL.Image.Image image mode=RGB size=294x222 at 0x7FE2B0752B20>:   2%|▏         | 11/500 [00:00<00:49,  9.82 Samples/s]                 "
     ]
    },
    {
     "name": "stdout",
     "output_type": "stream",
     "text": [
      "Initialised with 500 image(s) found.\n",
      "Output directory set to /home/innovation/Documents/Projects/LEPROSY/LEPROSY/cleaned_images/acne_images/output."
     ]
    },
    {
     "name": "stderr",
     "output_type": "stream",
     "text": [
      "Processing <PIL.Image.Image image mode=RGB size=294x222 at 0x7FE2B0A667C0>: 100%|██████████| 500/500 [00:01<00:00, 257.86 Samples/s]                  \n"
     ]
    }
   ],
   "source": [
    "#connecting dataset with code\n",
    "import Augmentor\n",
    "\n",
    "p = Augmentor.Pipeline(\"/home/innovation/Documents/Projects/LEPROSY/LEPROSY/cleaned_images/acne_images\")\n",
    "\n",
    "#performing rotations on images\n",
    "p.rotate(probability=0.7, max_left_rotation=10, max_right_rotation=10)\n",
    "\n",
    "#performing zoom-in zoom-out on images\n",
    "p.zoom(probability=0.3, min_factor=1.1, max_factor=1.6)\n",
    "\n",
    "#taking 500 images as new training dataset\n",
    "training_augmented = p.sample(500)"
   ]
  },
  {
   "cell_type": "markdown",
   "id": "4447de6f",
   "metadata": {},
   "source": [
    "### Checking for class imbalance"
   ]
  },
  {
   "cell_type": "code",
   "execution_count": 22,
   "id": "bed513f6",
   "metadata": {},
   "outputs": [
    {
     "data": {
      "text/plain": [
       "{'acne_images': 500, 'psoriasis_images': 612, 'leprosy_images': 500}"
      ]
     },
     "execution_count": 22,
     "metadata": {},
     "output_type": "execute_result"
    }
   ],
   "source": [
    "# Define the root directory of your dataset\n",
    "root_dir = \"cleaned_images\"\n",
    "\n",
    "subdirs = [\"acne_images\",\"psoriasis_images\", \"leprosy_images\"]\n",
    "\n",
    "{disorder :len(os.listdir(f'{root_dir}/{disorder}')) for disorder in subdirs}\n",
    "\n",
    "# Observation:\n",
    "# There is class imbalance"
   ]
  },
  {
   "cell_type": "markdown",
   "id": "a8267507",
   "metadata": {},
   "source": [
    "**Finding the average resolution for images dataset**"
   ]
  },
  {
   "cell_type": "code",
   "execution_count": 23,
   "id": "af4f6c41",
   "metadata": {},
   "outputs": [
    {
     "name": "stdout",
     "output_type": "stream",
     "text": [
      "The average height is:347 and the average width is:396\n"
     ]
    }
   ],
   "source": [
    "widths = []\n",
    "heights = []\n",
    "\n",
    "for disorder in subdirs:\n",
    "    for img in os.listdir(f'{root_dir}/{disorder}'):\n",
    "        img_path = os.path.join(f'{root_dir}/{disorder}', img) # Making image file path\n",
    "        im = Image.open(img_path)\n",
    "        widths.append(im.size[0])\n",
    "        heights.append(im.size[1])\n",
    "\n",
    "avg_height = round(sum(heights)/len(heights))\n",
    "avg_width = round(sum(widths)/len(widths))\n",
    "\n",
    "print(f'The average height is:{avg_height} and the average width is:{avg_width}')"
   ]
  },
  {
   "cell_type": "markdown",
   "id": "ac468b45",
   "metadata": {},
   "source": [
    "### Train Validation Test Split "
   ]
  },
  {
   "cell_type": "code",
   "execution_count": 24,
   "id": "eafa1f6e",
   "metadata": {
    "scrolled": true
   },
   "outputs": [],
   "source": [
    "# Define the root directory of your dataset\n",
    "root_dir = \"cleaned_images\"\n",
    "\n",
    "subdirs = [\"acne_images\",\"psoriasis_images\", \"leprosy_images\"]\n",
    "\n",
    "# Checking if the folder exists and deleting it if it exists\n",
    "for folder_name in ['train', 'validation', 'test']:\n",
    "    if os.path.exists(f'{root_dir}/{folder_name}'):\n",
    "        # deleting the folder and its contents\n",
    "        shutil.rmtree(f'{root_dir}/{folder_name}')\n",
    "\n",
    "# create subdirectories for train, validation and test sets\n",
    "train_dir = os.path.join(root_dir, 'train')\n",
    "validation_dir = os.path.join(root_dir, 'validation')\n",
    "test_dir = os.path.join(root_dir, 'test')\n",
    "\n",
    "os.makedirs(train_dir, exist_ok=True)\n",
    "os.makedirs(validation_dir, exist_ok=True)\n",
    "os.makedirs(test_dir, exist_ok=True)\n",
    "\n",
    "# set the ratio for train, validation and test sets\n",
    "train_ratio = 0.8\n",
    "val_ratio = 0.1\n",
    "test_ratio = 0.1\n",
    "\n",
    "for subdir in subdirs:\n",
    "    subdir_path = os.path.join(root_dir, subdir)\n",
    "    train_subdir = os.path.join(train_dir, subdir)\n",
    "    validation_subdir = os.path.join(validation_dir, subdir)\n",
    "    test_subdir = os.path.join(test_dir, subdir)\n",
    "    os.makedirs(train_subdir, exist_ok=True)\n",
    "    os.makedirs(validation_subdir, exist_ok=True)\n",
    "    os.makedirs(test_subdir, exist_ok=True)\n",
    "\n",
    "    image_names = [name for name in os.listdir(subdir_path)]\n",
    "    image_names = random.sample(image_names, len(image_names))\n",
    "\n",
    "    for i, image_name in enumerate(image_names):\n",
    "            # Defining the source path:\n",
    "            source_path = os.path.join(subdir_path, image_name)\n",
    "\n",
    "            if i < len(image_names) * train_ratio:\n",
    "                target_path = os.path.join(train_subdir, image_name)\n",
    "                shutil.copyfile(source_path, target_path)\n",
    "            elif i < len(image_names) * (train_ratio + val_ratio):\n",
    "                target_path = os.path.join(validation_subdir, image_name)\n",
    "                shutil.copyfile(source_path, target_path)\n",
    "            else:\n",
    "                target_path = os.path.join(test_subdir, image_name)\n",
    "                shutil.copyfile(source_path, target_path)"
   ]
  },
  {
   "cell_type": "code",
   "execution_count": 25,
   "id": "d11bd11e",
   "metadata": {},
   "outputs": [
    {
     "name": "stdout",
     "output_type": "stream",
     "text": [
      "{'acne_images': 400, 'psoriasis_images': 490, 'leprosy_images': 400}\n"
     ]
    }
   ],
   "source": [
    "# Checking the distribution of the image after the train-validation-test split\n",
    "print({disorder :len(os.listdir(f'{root_dir}/train/{disorder}')) for disorder in subdirs})\n",
    "\n",
    "# Observation:\n",
    "# There is class imbalance as a result of the train-validation-test split."
   ]
  },
  {
   "cell_type": "code",
   "execution_count": 26,
   "id": "1c97e1dd",
   "metadata": {},
   "outputs": [
    {
     "name": "stdout",
     "output_type": "stream",
     "text": [
      "Number of images in train set  1290\n"
     ]
    }
   ],
   "source": [
    "# No. of images in train set\n",
    "train_images = [images for disease in subdirs \\\n",
    "                     for images in os.listdir(f'{root_dir}/train/{disease}')]\n",
    "print(\"Number of images in train set \",len(train_images))"
   ]
  },
  {
   "cell_type": "code",
   "execution_count": 27,
   "id": "c9963210",
   "metadata": {},
   "outputs": [
    {
     "name": "stdout",
     "output_type": "stream",
     "text": [
      "Number of images in validation set  161\n"
     ]
    }
   ],
   "source": [
    "# No of images in validation set\n",
    "validation_images = [images for disease in subdirs \\\n",
    "                     for images in os.listdir(f'{root_dir}/validation/{disease}')]\n",
    "print(\"Number of images in validation set \",len(validation_images))"
   ]
  },
  {
   "cell_type": "code",
   "execution_count": 28,
   "id": "4599c2e5",
   "metadata": {},
   "outputs": [
    {
     "name": "stdout",
     "output_type": "stream",
     "text": [
      "Number of images in test set  161\n"
     ]
    }
   ],
   "source": [
    "# No of images in test set\n",
    "test_images = [images for disease in subdirs \\\n",
    "                     for images in os.listdir(f'{root_dir}/test/{disease}')]\n",
    "print(\"Number of images in test set \",len(test_images))"
   ]
  }
 ],
 "metadata": {
  "kernelspec": {
   "display_name": "Python 3 (ipykernel)",
   "language": "python",
   "name": "python3"
  },
  "language_info": {
   "codemirror_mode": {
    "name": "ipython",
    "version": 3
   },
   "file_extension": ".py",
   "mimetype": "text/x-python",
   "name": "python",
   "nbconvert_exporter": "python",
   "pygments_lexer": "ipython3",
   "version": "3.11.4"
  }
 },
 "nbformat": 4,
 "nbformat_minor": 5
}
